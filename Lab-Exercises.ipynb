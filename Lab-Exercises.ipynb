{
 "cells": [
  {
   "cell_type": "code",
   "execution_count": null,
   "metadata": {},
   "outputs": [
    {
     "name": "stdout",
     "output_type": "stream",
     "text": [
      "Hello, kendall! Your favorite number multiplied by a random constant is 36.\n"
     ]
    }
   ],
   "source": [
    "import random\n",
    "\n",
    "#get info from user\n",
    "name = input(\"Enter your name: \")\n",
    "favorite_number = input(\"Enter your favorite number: \")\n",
    "\n",
    "#check number to make sure its valid\n",
    "try:\n",
    "    num = int(favorite_number)\n",
    "except ValueError:\n",
    "    print(\"That is not a valid number. Try again!\")\n",
    "else:\n",
    "    # *something* change the number\n",
    "    modify_number = num * random.randint(1, 10)\n",
    "\n",
    "    #output, printing number\n",
    "    print(f\"Hello, {name}! Your favorite number multiplied by a random constant is {modify_number}.\")\n"
   ]
  }
 ],
 "metadata": {
  "kernelspec": {
   "display_name": "Python 3",
   "language": "python",
   "name": "python3"
  },
  "language_info": {
   "codemirror_mode": {
    "name": "ipython",
    "version": 3
   },
   "file_extension": ".py",
   "mimetype": "text/x-python",
   "name": "python",
   "nbconvert_exporter": "python",
   "pygments_lexer": "ipython3",
   "version": "3.12.1"
  }
 },
 "nbformat": 4,
 "nbformat_minor": 2
}
