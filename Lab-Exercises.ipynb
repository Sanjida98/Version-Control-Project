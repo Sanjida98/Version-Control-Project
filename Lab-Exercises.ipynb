{
 "cells": [
  {
   "cell_type": "code",
   "execution_count": 3,
   "metadata": {},
   "outputs": [],
   "source": [
    "import random\n",
    "\n",
    "def main():\n",
    "    #get user name\n",
    "    name = input(\"Enter your name: \")\n",
    "    favorite_number = input(\"Enter your favorite number: \")\n",
    "\n",
    "    #check\n",
    "    try:\n",
    "        num = int(favorite_number)\n",
    "    except ValueError:\n",
    "        print(\"That is not a valid number. Try again!\")\n",
    "        return\n",
    "    \n",
    "    #the something\n",
    "    modify_number = num * random.randint(1,10)\n",
    "\n",
    "    #output\n",
    "    print(f\"Hello, {name}! Your favorite number nultiplied by a random constant is {modify_number}.\")\n",
    "\n",
    "    #return\n",
    "    if __name__ == \"__main__\":\n",
    "        main()\n",
    "    "
   ]
  }
 ],
 "metadata": {
  "kernelspec": {
   "display_name": "Python 3",
   "language": "python",
   "name": "python3"
  },
  "language_info": {
   "codemirror_mode": {
    "name": "ipython",
    "version": 3
   },
   "file_extension": ".py",
   "mimetype": "text/x-python",
   "name": "python",
   "nbconvert_exporter": "python",
   "pygments_lexer": "ipython3",
   "version": "3.12.1"
  }
 },
 "nbformat": 4,
 "nbformat_minor": 2
}
